{
 "cells": [
  {
   "cell_type": "markdown",
   "metadata": {
    "colab_type": "text",
    "id": "eiG7q2cTlwe4"
   },
   "source": [
    "#Model"
   ]
  },
  {
   "cell_type": "code",
   "execution_count": null,
   "metadata": {
    "colab": {
     "base_uri": "https://localhost:8080/",
     "height": 134
    },
    "colab_type": "code",
    "id": "wxjSUvlwlvgW",
    "outputId": "f222b89d-858c-4252-baa4-21bce21052e7"
   },
   "outputs": [],
   "source": [
    "# Loading the required packages\n",
    "import numpy as np\n",
    "import pandas as pd\n",
    "import matplotlib.pyplot as plt\n",
    "import seaborn as sns\n",
    "plt.style.use('fivethirtyeight')\n",
    "import warnings\n",
    "warnings.filterwarnings('ignore')\n",
    "import re\n",
    "from nltk.corpus import stopwords\n",
    "from nltk.stem import PorterStemmer\n",
    "from sklearn.feature_extraction.text import TfidfVectorizer\n",
    "from sklearn.linear_model import LogisticRegression, LogisticRegressionCV\n",
    "from sklearn.metrics import classification_report, confusion_matrix, accuracy_score, f1_score\n",
    "from sklearn.feature_selection import SelectKBest, chi2 \n",
    "from sklearn.ensemble import RandomForestClassifier\n",
    "from sklearn.neural_network import MLPClassifier\n",
    "from sklearn.svm import LinearSVC\n",
    "import nltk\n",
    "nltk.download('stopwords')\n",
    "# %matplotlib inline\n",
    "from sklearn.pipeline import Pipeline"
   ]
  },
  {
   "cell_type": "code",
   "execution_count": 0,
   "metadata": {
    "colab": {},
    "colab_type": "code",
    "id": "If_pBylsPAWH"
   },
   "outputs": [],
   "source": [
    "# Loading the dataset formed by scraping Instagram throgh Instaloader\n",
    "df = pd.read_excel('newdata.xlsx')"
   ]
  },
  {
   "cell_type": "code",
   "execution_count": null,
   "metadata": {},
   "outputs": [],
   "source": [
    "# Converting the caption to string type\n",
    "df['caption'] = df['caption'].astype(str)"
   ]
  },
  {
   "cell_type": "code",
   "execution_count": 0,
   "metadata": {
    "colab": {
     "base_uri": "https://localhost:8080/",
     "height": 34
    },
    "colab_type": "code",
    "id": "fa5j95zjokqa",
    "outputId": "851b9fe7-ba9a-4d8f-ec3c-1dd494183cc0"
   },
   "outputs": [
    {
     "data": {
      "text/plain": [
       "(14002, 7)"
      ]
     },
     "execution_count": 11,
     "metadata": {
      "tags": []
     },
     "output_type": "execute_result"
    }
   ],
   "source": [
    "df.shape"
   ]
  },
  {
   "cell_type": "code",
   "execution_count": 0,
   "metadata": {
    "colab": {
     "base_uri": "https://localhost:8080/",
     "height": 67
    },
    "colab_type": "code",
    "id": "A5NyS3e4oksb",
    "outputId": "2444c8bf-8ce0-48be-f040-58c6b009f3c5"
   },
   "outputs": [
    {
     "data": {
      "text/plain": [
       "Index(['username', 'image_url', 'following', 'followers', 'likes', 'caption',\n",
       "       'category'],\n",
       "      dtype='object')"
      ]
     },
     "execution_count": 10,
     "metadata": {
      "tags": []
     },
     "output_type": "execute_result"
    }
   ],
   "source": [
    "df.columns"
   ]
  },
  {
   "cell_type": "code",
   "execution_count": 0,
   "metadata": {
    "colab": {},
    "colab_type": "code",
    "id": "UbDPlc6Ati2k"
   },
   "outputs": [],
   "source": [
    "# Dropping the rows with null values\n",
    "df = df[df.category.isnull() == False]"
   ]
  },
  {
   "cell_type": "code",
   "execution_count": 0,
   "metadata": {
    "colab": {
     "base_uri": "https://localhost:8080/",
     "height": 151
    },
    "colab_type": "code",
    "id": "jifHkrCwpykQ",
    "outputId": "9cda31dc-0333-4b1d-9b2d-bfd53e551995"
   },
   "outputs": [
    {
     "data": {
      "text/plain": [
       "username      0\n",
       "image_url     0\n",
       "following     0\n",
       "followers     0\n",
       "likes         0\n",
       "caption      16\n",
       "category      0\n",
       "dtype: int64"
      ]
     },
     "execution_count": 12,
     "metadata": {
      "tags": []
     },
     "output_type": "execute_result"
    }
   ],
   "source": [
    "df.isnull().sum()"
   ]
  },
  {
   "cell_type": "code",
   "execution_count": 0,
   "metadata": {
    "colab": {
     "base_uri": "https://localhost:8080/",
     "height": 166
    },
    "colab_type": "code",
    "id": "D8vfhhtipyl8",
    "outputId": "2709fe13-0e2f-41f6-9ea7-13641dad58aa"
   },
   "outputs": [
    {
     "data": {
      "text/html": [
       "<div>\n",
       "<style scoped>\n",
       "    .dataframe tbody tr th:only-of-type {\n",
       "        vertical-align: middle;\n",
       "    }\n",
       "\n",
       "    .dataframe tbody tr th {\n",
       "        vertical-align: top;\n",
       "    }\n",
       "\n",
       "    .dataframe thead th {\n",
       "        text-align: right;\n",
       "    }\n",
       "</style>\n",
       "<table border=\"1\" class=\"dataframe\">\n",
       "  <thead>\n",
       "    <tr style=\"text-align: right;\">\n",
       "      <th></th>\n",
       "      <th>count</th>\n",
       "      <th>mean</th>\n",
       "      <th>std</th>\n",
       "      <th>min</th>\n",
       "      <th>25%</th>\n",
       "      <th>50%</th>\n",
       "      <th>75%</th>\n",
       "      <th>max</th>\n",
       "    </tr>\n",
       "  </thead>\n",
       "  <tbody>\n",
       "    <tr>\n",
       "      <th>following</th>\n",
       "      <td>14002.0</td>\n",
       "      <td>997.275818</td>\n",
       "      <td>1557.930361</td>\n",
       "      <td>0.0</td>\n",
       "      <td>113.0</td>\n",
       "      <td>385.0</td>\n",
       "      <td>1034.0</td>\n",
       "      <td>7652.0</td>\n",
       "    </tr>\n",
       "    <tr>\n",
       "      <th>followers</th>\n",
       "      <td>14002.0</td>\n",
       "      <td>5623.038637</td>\n",
       "      <td>132565.263353</td>\n",
       "      <td>0.0</td>\n",
       "      <td>219.0</td>\n",
       "      <td>710.0</td>\n",
       "      <td>2288.0</td>\n",
       "      <td>15501290.0</td>\n",
       "    </tr>\n",
       "    <tr>\n",
       "      <th>likes</th>\n",
       "      <td>14002.0</td>\n",
       "      <td>175.302100</td>\n",
       "      <td>2608.578898</td>\n",
       "      <td>0.0</td>\n",
       "      <td>11.0</td>\n",
       "      <td>31.0</td>\n",
       "      <td>93.0</td>\n",
       "      <td>298709.0</td>\n",
       "    </tr>\n",
       "    <tr>\n",
       "      <th>category</th>\n",
       "      <td>14002.0</td>\n",
       "      <td>0.357163</td>\n",
       "      <td>0.479181</td>\n",
       "      <td>0.0</td>\n",
       "      <td>0.0</td>\n",
       "      <td>0.0</td>\n",
       "      <td>1.0</td>\n",
       "      <td>1.0</td>\n",
       "    </tr>\n",
       "  </tbody>\n",
       "</table>\n",
       "</div>"
      ],
      "text/plain": [
       "             count         mean            std  ...    50%     75%         max\n",
       "following  14002.0   997.275818    1557.930361  ...  385.0  1034.0      7652.0\n",
       "followers  14002.0  5623.038637  132565.263353  ...  710.0  2288.0  15501290.0\n",
       "likes      14002.0   175.302100    2608.578898  ...   31.0    93.0    298709.0\n",
       "category   14002.0     0.357163       0.479181  ...    0.0     1.0         1.0\n",
       "\n",
       "[4 rows x 8 columns]"
      ]
     },
     "execution_count": 9,
     "metadata": {
      "tags": []
     },
     "output_type": "execute_result"
    }
   ],
   "source": [
    "# Descriptive statistics of the dataset\n",
    "df.describe().T"
   ]
  },
  {
   "cell_type": "code",
   "execution_count": 0,
   "metadata": {
    "colab": {
     "base_uri": "https://localhost:8080/",
     "height": 67
    },
    "colab_type": "code",
    "id": "fN09dc7Jpyq2",
    "outputId": "26b83117-b83b-497a-830a-4a4d4348fb6e"
   },
   "outputs": [
    {
     "data": {
      "text/plain": [
       "0.0    9001\n",
       "1.0    5001\n",
       "Name: category, dtype: int64"
      ]
     },
     "execution_count": 13,
     "metadata": {
      "tags": []
     },
     "output_type": "execute_result"
    }
   ],
   "source": [
    "# Value counts of positives(1) and negatives(0)\n",
    "df['category'].value_counts()"
   ]
  },
  {
   "cell_type": "code",
   "execution_count": 0,
   "metadata": {
    "colab": {},
    "colab_type": "code",
    "id": "as3I_qY0pywC"
   },
   "outputs": [],
   "source": [
    "# Cleaning the text data by stripping blank spaces, removing unnecessary tokens.\n",
    "# Text pre-processing : Removing stopwords and stemming\n",
    "\n",
    "stemmer = PorterStemmer()\n",
    "words = stopwords.words(\"english\")\n",
    "df['caption'] = df['caption'].apply(lambda x: \" \".join([stemmer.stem(i) for i in re.sub(\"[^a-zA-Z0-9]\", \" \", x).split() if i not in words]).lower())\n",
    "\n",
    "# Using TFIDF Vectorizer to form numerical features\n",
    "vectorizer = TfidfVectorizer(min_df=3, stop_words=\"english\", sublinear_tf=True, norm='l2', ngram_range=(1, 2))"
   ]
  },
  {
   "cell_type": "code",
   "execution_count": 0,
   "metadata": {
    "colab": {},
    "colab_type": "code",
    "id": "HVDS9qrWpyz0"
   },
   "outputs": [],
   "source": [
    "# Selecting top 1000 best features using SelectKBest and storing it in an array\n",
    "pipe = Pipeline([('vect', vectorizer), ('chi',  SelectKBest(chi2, k=1000))])\n",
    "text_features = pipe.fit_transform(df['caption'], df['category'])\n",
    "text_features = text_features.toarray()"
   ]
  },
  {
   "cell_type": "code",
   "execution_count": 0,
   "metadata": {
    "colab": {
     "base_uri": "https://localhost:8080/",
     "height": 34
    },
    "colab_type": "code",
    "id": "dVbEzqi7py1V",
    "outputId": "1c4e12cb-5ef6-497d-ae06-bab0a9bc27f9"
   },
   "outputs": [
    {
     "data": {
      "text/plain": [
       "(14002, 1000)"
      ]
     },
     "execution_count": 21,
     "metadata": {
      "tags": []
     },
     "output_type": "execute_result"
    }
   ],
   "source": [
    "text_features.shape"
   ]
  },
  {
   "cell_type": "code",
   "execution_count": 0,
   "metadata": {
    "colab": {},
    "colab_type": "code",
    "id": "hnuEobEnvBHr"
   },
   "outputs": [],
   "source": [
    "# Categorising the target variable\n",
    "df['category'] = pd.Categorical(df['category'])"
   ]
  },
  {
   "cell_type": "code",
   "execution_count": 0,
   "metadata": {
    "colab": {
     "base_uri": "https://localhost:8080/",
     "height": 84
    },
    "colab_type": "code",
    "id": "IEi_j2lbpyuh",
    "outputId": "f5203c1d-822c-4978-ea93-9207d1a89653"
   },
   "outputs": [
    {
     "data": {
      "text/plain": [
       "LinearSVC(C=1.0, class_weight='balanced', dual=True, fit_intercept=True,\n",
       "          intercept_scaling=1, loss='squared_hinge', max_iter=5000,\n",
       "          multi_class='ovr', penalty='l2', random_state=None, tol=0.0001,\n",
       "          verbose=0)"
      ]
     },
     "execution_count": 25,
     "metadata": {
      "tags": []
     },
     "output_type": "execute_result"
    }
   ],
   "source": [
    "# Creating training and test datasets\n",
    "X = text_features\n",
    "y = df['category']\n",
    "\n",
    "X_train, X_test, y_train, y_test = train_test_split(X, y, test_size=0.2, random_state=1)\n",
    "\n",
    "# Fitting the model\n",
    "# Linear SVC is used since the data is sparsed and Support vectors work well on such kind of dataset\n",
    "model = LinearSVC(class_weight='balanced', max_iter=5000)\n",
    "model.fit(X_train, y_train)"
   ]
  },
  {
   "cell_type": "code",
   "execution_count": 0,
   "metadata": {
    "colab": {
     "base_uri": "https://localhost:8080/",
     "height": 50
    },
    "colab_type": "code",
    "id": "G5ACO1FrkzTH",
    "outputId": "26bac4fd-45b2-48bd-872f-31145e951244"
   },
   "outputs": [
    {
     "name": "stdout",
     "output_type": "stream",
     "text": [
      "Final prediction score: [0.91181721]\n",
      "Final prediction f1 score: [0.91094302]\n"
     ]
    }
   ],
   "source": [
    "# Performing prediction on test dataset\n",
    "preds = model.predict(X_test)\n",
    "print('Final prediction score: [%.8f]' % accuracy_score(y_test, preds))\n",
    "print('Final prediction f1 score: [%.8f]' % f1_score(y_test, preds, average='weighted'))"
   ]
  },
  {
   "cell_type": "code",
   "execution_count": 0,
   "metadata": {
    "colab": {
     "base_uri": "https://localhost:8080/",
     "height": 202
    },
    "colab_type": "code",
    "id": "EApjVXBJrmTR",
    "outputId": "af8b05ad-e786-40a4-dc02-b48681c8a0ed"
   },
   "outputs": [
    {
     "name": "stdout",
     "output_type": "stream",
     "text": [
      "              precision    recall  f1-score   support\n",
      "\n",
      "         0.0       0.91      0.95      0.93      1804\n",
      "         1.0       0.91      0.84      0.87       997\n",
      "\n",
      "    accuracy                           0.91      2801\n",
      "   macro avg       0.91      0.89      0.90      2801\n",
      "weighted avg       0.91      0.91      0.91      2801\n",
      "\n",
      "[[1720   84]\n",
      " [ 163  834]]\n"
     ]
    }
   ],
   "source": [
    "# Printing classification report and confusion matrix\n",
    "print(classification_report(y_test, preds))\n",
    "print(confusion_matrix(y_test, preds))"
   ]
  },
  {
   "cell_type": "code",
   "execution_count": 0,
   "metadata": {
    "colab": {},
    "colab_type": "code",
    "id": "PDlfRmMg9L1P"
   },
   "outputs": [],
   "source": []
  }
 ],
 "metadata": {
  "accelerator": "GPU",
  "colab": {
   "collapsed_sections": [
    "RJYXI8HUl1Lu"
   ],
   "name": "Instaloader",
   "provenance": [],
   "version": "0.3.2"
  },
  "kernelspec": {
   "display_name": "Python 3",
   "language": "python",
   "name": "python3"
  },
  "language_info": {
   "codemirror_mode": {
    "name": "ipython",
    "version": 3
   },
   "file_extension": ".py",
   "mimetype": "text/x-python",
   "name": "python",
   "nbconvert_exporter": "python",
   "pygments_lexer": "ipython3",
   "version": "3.7.3"
  }
 },
 "nbformat": 4,
 "nbformat_minor": 1
}
